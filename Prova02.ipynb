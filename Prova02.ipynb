{
 "cells": [
  {
   "cell_type": "code",
   "execution_count": 1,
   "id": "98bca3a5-e60a-4033-93f4-6beedd177c47",
   "metadata": {},
   "outputs": [
    {
     "name": "stdout",
     "output_type": "stream",
     "text": [
      "O consumo diário médio foi: 14.966666666666667 kWh\n"
     ]
    }
   ],
   "source": [
    "# 30 dias\n",
    "consumo_lista = [15, 14, 16, 15, 14, 16, 15, 15, 14, 15,\n",
    "                 15, 14, 16, 15, 15, 16, 15, 14, 15, 16,\n",
    "                 14, 15, 16, 15, 15, 14, 16, 15, 15, 14]\n",
    "\n",
    "# consumo\n",
    "def media_consumo(lista):\n",
    "    return sum(lista) / 30\n",
    "\n",
    "# Chamada da função e exibição do resultado\n",
    "print(f\"O consumo diário médio foi: {media_consumo(consumo_lista)} kWh\")\n"
   ]
  },
  {
   "cell_type": "code",
   "execution_count": null,
   "id": "f77be471-8fc5-4275-81d5-a54bf78cc96b",
   "metadata": {},
   "outputs": [],
   "source": []
  }
 ],
 "metadata": {
  "kernelspec": {
   "display_name": "Python [conda env:base] *",
   "language": "python",
   "name": "conda-base-py"
  },
  "language_info": {
   "codemirror_mode": {
    "name": "ipython",
    "version": 3
   },
   "file_extension": ".py",
   "mimetype": "text/x-python",
   "name": "python",
   "nbconvert_exporter": "python",
   "pygments_lexer": "ipython3",
   "version": "3.12.7"
  }
 },
 "nbformat": 4,
 "nbformat_minor": 5
}
