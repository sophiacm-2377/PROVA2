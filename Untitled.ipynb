{
 "cells": [
  {
   "cell_type": "code",
   "execution_count": 19,
   "id": "b3bf0a96-450e-467b-9914-7ff58d0e3edf",
   "metadata": {},
   "outputs": [
    {
     "ename": "IndentationError",
     "evalue": "expected an indented block after function definition on line 6 (2307743982.py, line 8)",
     "output_type": "error",
     "traceback": [
      "\u001b[1;36m  Cell \u001b[1;32mIn[19], line 8\u001b[1;36m\u001b[0m\n\u001b[1;33m    print(f\"O consumo foi diário médio foi: {consumo(lista)})\u001b[0m\n\u001b[1;37m    ^\u001b[0m\n\u001b[1;31mIndentationError\u001b[0m\u001b[1;31m:\u001b[0m expected an indented block after function definition on line 6\n"
     ]
    }
   ],
   "source": [
    "#média de consumo diario de energia, recebendo uma lista com o consumo diário de energia (em kwh) durante os 30 dias do mês e com o calculo da média de consumo\n",
    "# Lista\n",
    "consumo = [15, 14, 16, 15, 14, 16, 15, 15, 14, 15,\n",
    "            15, 14, 16, 15, 15, 16, 15, 14, 15, 16,\n",
    "            14, 15, 16, 15, 15, 14, 16, 15, 15, 14]\n",
    "def consumo(lista):\n",
    "\n",
    "print(f\"O consumo foi diário médio foi: {consumo(lista)})\n",
    "\n",
    "\n"
   ]
  },
  {
   "cell_type": "code",
   "execution_count": 17,
   "id": "24a8bfbc-366b-4900-9d7d-f334735e3a2c",
   "metadata": {},
   "outputs": [
    {
     "name": "stdout",
     "output_type": "stream",
     "text": [
      "Média de consumo diário: 13.48 kWh\n"
     ]
    }
   ],
   "source": [
    "# Importações (caso futuras análises sejam necessárias)\n",
    "import statistics  # Para médias e outras estatísticas (não obrigatório aqui, mas útil)\n",
    "import sys         # Para mensagens de erro, se quiser mais controle\n",
    "\n",
    "# Lista global com os valores de consumo diário em kWh\n",
    "consumo_energia = [\n",
    "    12.5, 13.0, 14.1, 13.5, 12.8, 13.6, 14.0, 13.2, 13.8, 14.4,\n",
    "    13.1, 12.9, 13.3, 13.7, 14.2, 13.9, 13.6, 12.7, 13.4, 13.0,\n",
    "    13.5, 13.8, 12.6, 14.0, 13.2, 13.9, 14.1, 13.3, 13.7, 13.6\n",
    "]\n",
    "\n",
    "# Função para calcular a média de consumo\n",
    "def media_consumo_diario(lista_consumo):\n",
    "    if len(lista_consumo) != 30:\n",
    "        print(\"Erro: a lista deve conter exatamente 30 valores de consumo.\")\n",
    "        sys.exit(1)  # Encerra o programa se a lista estiver errada\n",
    "\n",
    "    soma = sum(lista_consumo)\n",
    "    media = soma / 30\n",
    "    return media\n",
    "\n",
    "# Execução principal\n",
    "if __name__ == \"__main__\":\n",
    "    media = media_consumo_diario(consumo_energia)\n",
    "    print(f\"Média de consumo diário: {media:.2f} kWh\")\n"
   ]
  },
  {
   "cell_type": "code",
   "execution_count": null,
   "id": "863e392b-b4f1-4c20-9fba-15f0af1cfd87",
   "metadata": {},
   "outputs": [],
   "source": []
  }
 ],
 "metadata": {
  "kernelspec": {
   "display_name": "Python [conda env:base] *",
   "language": "python",
   "name": "conda-base-py"
  },
  "language_info": {
   "codemirror_mode": {
    "name": "ipython",
    "version": 3
   },
   "file_extension": ".py",
   "mimetype": "text/x-python",
   "name": "python",
   "nbconvert_exporter": "python",
   "pygments_lexer": "ipython3",
   "version": "3.12.7"
  }
 },
 "nbformat": 4,
 "nbformat_minor": 5
}
